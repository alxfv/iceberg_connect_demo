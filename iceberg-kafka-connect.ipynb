{
 "cells": [
  {
   "cell_type": "code",
   "execution_count": 3,
   "id": "80f6d907-e907-4f94-a4fa-463f4e7e5ec1",
   "metadata": {},
   "outputs": [],
   "source": [
    "df = spark.table(\"demo.rpc.pizzas\")"
   ]
  },
  {
   "cell_type": "code",
   "execution_count": 4,
   "id": "a152028c-9de9-41e9-87e5-9f99ca83971d",
   "metadata": {},
   "outputs": [
    {
     "data": {
      "text/plain": [
       "6928"
      ]
     },
     "execution_count": 4,
     "metadata": {},
     "output_type": "execute_result"
    }
   ],
   "source": [
    "df.count()"
   ]
  },
  {
   "cell_type": "code",
   "execution_count": 16,
   "id": "0f98c9de-7b74-43c3-937e-443b1902afd3",
   "metadata": {},
   "outputs": [
    {
     "data": {
      "text/plain": [
       "DataFrame[store_id: bigint, meats: string, sauce: string, veggies: string, date_ordered: string, order_id: string, cheese: string, price: bigint]"
      ]
     },
     "execution_count": 16,
     "metadata": {},
     "output_type": "execute_result"
    }
   ],
   "source": [
    "df"
   ]
  },
  {
   "cell_type": "code",
   "execution_count": 22,
   "id": "c84b09c5-61b7-4712-81b6-825a585cfb65",
   "metadata": {},
   "outputs": [
    {
     "name": "stdout",
     "output_type": "stream",
     "text": [
      "+--------+--------------------+-------+--------------------+-------------------+--------------------+-----------+-----+\n",
      "|store_id|               meats|  sauce|             veggies|       date_ordered|            order_id|     cheese|price|\n",
      "+--------+--------------------+-------+--------------------+-------------------+--------------------+-----------+-----+\n",
      "|      51|           pepperoni|alfredo|                none|2025-02-21 15:36:39|12104749891926945...|      extra|  170|\n",
      "|      51|                none|alfredo|onions & olives &...|2025-02-21 15:36:39|12104749891926945...|goat cheese|  113|\n",
      "|      51|ham & anchovies &...|  light|             peppers|2025-02-21 15:36:39|12104749891926945...|      extra|  155|\n",
      "|      91|     ham & anchovies|  extra|  pineapple & tomato|2025-02-21 15:36:39|20522404372949048...|       none|  111|\n",
      "|      47|anchovies & peppe...|  light|    peppers & tomato|2025-02-21 15:36:39|49761752912237779...|       none|  180|\n",
      "+--------+--------------------+-------+--------------------+-------------------+--------------------+-----------+-----+\n",
      "only showing top 5 rows\n",
      "\n"
     ]
    }
   ],
   "source": [
    "df.show(5)"
   ]
  },
  {
   "cell_type": "code",
   "execution_count": 19,
   "id": "29b55f1b-0f5e-4309-b717-dd6b69c1e21e",
   "metadata": {},
   "outputs": [
    {
     "data": {
      "text/plain": [
       "['store_id',\n",
       " 'meats',\n",
       " 'sauce',\n",
       " 'veggies',\n",
       " 'date_ordered',\n",
       " 'order_id',\n",
       " 'cheese',\n",
       " 'price']"
      ]
     },
     "execution_count": 19,
     "metadata": {},
     "output_type": "execute_result"
    }
   ],
   "source": [
    "df.columns"
   ]
  },
  {
   "cell_type": "code",
   "execution_count": 23,
   "id": "a20b5b95-f3a0-4496-9448-a9a89b56605f",
   "metadata": {},
   "outputs": [
    {
     "name": "stdout",
     "output_type": "stream",
     "text": [
      "+--------+-----+\n",
      "|store_id|count|\n",
      "+--------+-----+\n",
      "|      65|  105|\n",
      "|      66|  105|\n",
      "|      43|  101|\n",
      "|       8|  101|\n",
      "|      77|   99|\n",
      "+--------+-----+\n",
      "only showing top 5 rows\n",
      "\n"
     ]
    }
   ],
   "source": [
    "df.groupBy(\"store_id\").count().sort(\"count\", ascending=False).show(5)"
   ]
  },
  {
   "cell_type": "code",
   "execution_count": 25,
   "id": "8948bf6d-a130-4d21-ad9d-28971338220a",
   "metadata": {},
   "outputs": [
    {
     "name": "stdout",
     "output_type": "stream",
     "text": [
      "+--------+--------------------+-------+--------------------+-------------------+--------------------+------------+-----+\n",
      "|store_id|               meats|  sauce|             veggies|       date_ordered|            order_id|      cheese|price|\n",
      "+--------+--------------------+-------+--------------------+-------------------+--------------------+------------+-----+\n",
      "|      15|               bacon|alfredo|     tomato & olives|2025-02-21 15:24:29|14070872683721759...|        none| NULL|\n",
      "|      15|              salami|alfredo|           pineapple|2025-02-21 15:24:29|14070872683721759...|        none| NULL|\n",
      "|      15|                none|    bbq|    olives & peppers|2025-02-21 15:24:29|14070872683721759...|three cheese| NULL|\n",
      "|      15|anchovies & bacon...|  extra|             peppers|2025-02-21 15:24:29|14070872683721759...|three cheese| NULL|\n",
      "|      78|         bacon & ham|  extra|                none|2025-02-21 15:24:29|38336880340846178...| goat cheese| NULL|\n",
      "|      79| pepperoni & sausage|  extra|                none|2025-02-21 15:24:29|29784564015569097...|three cheese| NULL|\n",
      "|      79|               bacon|  light|tomato & mushroom...|2025-02-21 15:24:29|29784564015569097...|three cheese| NULL|\n",
      "|      79|     anchovies & ham|  extra|pineapple & mushr...|2025-02-21 15:24:29|29784564015569097...|        none| NULL|\n",
      "|      79|                none|  extra|pineapple & olive...|2025-02-21 15:24:29|29784564015569097...|       extra| NULL|\n",
      "|      79| pepperoni & sausage|  light|                none|2025-02-21 15:24:29|29784564015569097...|        none| NULL|\n",
      "|      80|                none|    bbq|     tomato & olives|2025-02-21 15:24:29|14869464096013170...|        none| NULL|\n",
      "|      80|           pepperoni|alfredo|     onions & olives|2025-02-21 15:24:29|14869464096013170...|       extra| NULL|\n",
      "|      80|           anchovies|    bbq|                none|2025-02-21 15:24:29|14869464096013170...|        none| NULL|\n",
      "|      92|anchovies & peppe...|  light|tomato & mushroom...|2025-02-21 15:24:29|25960502564793493...|three cheese| NULL|\n",
      "|      11|                 ham|alfredo|              olives|2025-02-21 15:24:29|30741699000050327...| goat cheese| NULL|\n",
      "|      11| pepperoni & sausage|  light|    onions & peppers|2025-02-21 15:24:29|30741699000050327...|three cheese| NULL|\n",
      "|      11|                none|alfredo|pineapple & mushr...|2025-02-21 15:24:29|30741699000050327...|       extra| NULL|\n",
      "|      11|bacon & salami & ...|alfredo|                none|2025-02-21 15:24:29|30741699000050327...|        none| NULL|\n",
      "|      99|           pepperoni|  extra|              tomato|2025-02-21 15:24:29|44017807429112233...| goat cheese| NULL|\n",
      "|      99|           pepperoni|  extra|  pineapple & olives|2025-02-21 15:24:29|44017807429112233...|       extra| NULL|\n",
      "+--------+--------------------+-------+--------------------+-------------------+--------------------+------------+-----+\n",
      "only showing top 20 rows\n",
      "\n"
     ]
    }
   ],
   "source": [
    "df.where(\"price is NULL\").show()"
   ]
  },
  {
   "cell_type": "code",
   "execution_count": 29,
   "id": "c00cf00f-e0d4-4057-bc0f-13124e037903",
   "metadata": {},
   "outputs": [
    {
     "name": "stdout",
     "output_type": "stream",
     "text": [
      "+--------+--------------------+-------+--------------------+-------------------+--------------------+-----------+-----+\n",
      "|store_id|               meats|  sauce|             veggies|       date_ordered|            order_id|     cheese|price|\n",
      "+--------+--------------------+-------+--------------------+-------------------+--------------------+-----------+-----+\n",
      "|      51|           anchovies|alfredo|           pineapple|2025-02-21 15:36:39|12104749891926945...|       none|  177|\n",
      "|      51|           pepperoni|alfredo|                none|2025-02-21 15:36:39|12104749891926945...|      extra|  170|\n",
      "|      51|                none|alfredo|onions & olives &...|2025-02-21 15:36:39|12104749891926945...|goat cheese|  113|\n",
      "|      51|ham & anchovies &...|  light|             peppers|2025-02-21 15:36:39|12104749891926945...|      extra|  155|\n",
      "|      91|     ham & anchovies|  extra|  pineapple & tomato|2025-02-21 15:36:39|20522404372949048...|       none|  111|\n",
      "+--------+--------------------+-------+--------------------+-------------------+--------------------+-----------+-----+\n",
      "only showing top 5 rows\n",
      "\n"
     ]
    }
   ],
   "source": [
    " spark.sql(\"SELECT * FROM demo.rpc.pizzas\").show(5)"
   ]
  },
  {
   "cell_type": "code",
   "execution_count": 32,
   "id": "e7b9507d-77f4-40bc-9519-20950c85374a",
   "metadata": {},
   "outputs": [
    {
     "data": {
      "text/plain": [
       "[Row(timestamp=datetime.datetime(2025, 2, 21, 20, 24, 15, 648000), file='s3://warehouse/rpc/pizzas/metadata/00000-a4d8d44a-0ee3-40b5-aa9c-fe6f8995f0c9.metadata.json', latest_snapshot_id=None, latest_schema_id=None, latest_sequence_number=None),\n",
       " Row(timestamp=datetime.datetime(2025, 2, 21, 20, 24, 17, 870000), file='s3://warehouse/rpc/pizzas/metadata/00001-77bf9ae2-6924-4f6a-bdfe-67ab9facbd36.metadata.json', latest_snapshot_id=891829331339115565, latest_schema_id=0, latest_sequence_number=1),\n",
       " Row(timestamp=datetime.datetime(2025, 2, 21, 20, 24, 29, 189000), file='s3://warehouse/rpc/pizzas/metadata/00002-f99a8df4-e969-425e-bfb1-b909f6937aa3.metadata.json', latest_snapshot_id=365342981656963834, latest_schema_id=0, latest_sequence_number=2),\n",
       " Row(timestamp=datetime.datetime(2025, 2, 21, 20, 25, 58, 297000), file='s3://warehouse/rpc/pizzas/metadata/00003-e7a95f0f-2462-4e0f-b2f5-73455e5da29f.metadata.json', latest_snapshot_id=6082918464768998483, latest_schema_id=0, latest_sequence_number=3),\n",
       " Row(timestamp=datetime.datetime(2025, 2, 21, 20, 36, 39, 996000), file='s3://warehouse/rpc/pizzas/metadata/00004-57905d44-d09a-4fad-bab7-9a4e6de2ced8.metadata.json', latest_snapshot_id=6082918464768998483, latest_schema_id=0, latest_sequence_number=3),\n",
       " Row(timestamp=datetime.datetime(2025, 2, 21, 20, 36, 40, 352000), file='s3://warehouse/rpc/pizzas/metadata/00005-251cf653-c686-4f4a-b297-35a21f1dd1ba.metadata.json', latest_snapshot_id=1019573692616403157, latest_schema_id=1, latest_sequence_number=4),\n",
       " Row(timestamp=datetime.datetime(2025, 2, 21, 20, 41, 48, 418000), file='s3://warehouse/rpc/pizzas/metadata/00006-87345ac0-7330-42d9-b1f7-7cc594e0b8f5.metadata.json', latest_snapshot_id=3221693967531930755, latest_schema_id=1, latest_sequence_number=5)]"
      ]
     },
     "execution_count": 32,
     "metadata": {},
     "output_type": "execute_result"
    }
   ],
   "source": [
    " spark.sql(\"SELECT * FROM demo.rpc.pizzas.metadata_log_entries\").collect()"
   ]
  },
  {
   "cell_type": "code",
   "execution_count": 36,
   "id": "958a616b-464c-4181-b5e0-f4770338737b",
   "metadata": {},
   "outputs": [
    {
     "name": "stdout",
     "output_type": "stream",
     "text": [
      "+--------------------+-------------------+-------------------+-------------------+\n",
      "|     made_current_at|        snapshot_id|          parent_id|is_current_ancestor|\n",
      "+--------------------+-------------------+-------------------+-------------------+\n",
      "|2025-02-21 20:24:...| 891829331339115565|               NULL|               true|\n",
      "|2025-02-21 20:24:...| 365342981656963834| 891829331339115565|               true|\n",
      "|2025-02-21 20:25:...|6082918464768998483| 365342981656963834|               true|\n",
      "|2025-02-21 20:36:...|1019573692616403157|6082918464768998483|               true|\n",
      "|2025-02-21 20:36:...|3221693967531930755|1019573692616403157|               true|\n",
      "+--------------------+-------------------+-------------------+-------------------+\n",
      "\n"
     ]
    }
   ],
   "source": [
    " spark.sql(\"SELECT * FROM demo.rpc.pizzas.history\").show()"
   ]
  },
  {
   "cell_type": "code",
   "execution_count": 35,
   "id": "79c04d44-c827-427a-bbb6-773f072da393",
   "metadata": {},
   "outputs": [
    {
     "name": "stdout",
     "output_type": "stream",
     "text": [
      "+--------------------+-------------------+-------------------+---------+--------------------+--------------------+\n",
      "|        committed_at|        snapshot_id|          parent_id|operation|       manifest_list|             summary|\n",
      "+--------------------+-------------------+-------------------+---------+--------------------+--------------------+\n",
      "|2025-02-21 20:24:...| 891829331339115565|               NULL|   append|s3://warehouse/rp...|{kafka.connect.of...|\n",
      "|2025-02-21 20:24:...| 365342981656963834| 891829331339115565|   append|s3://warehouse/rp...|{kafka.connect.of...|\n",
      "|2025-02-21 20:25:...|6082918464768998483| 365342981656963834|   append|s3://warehouse/rp...|{kafka.connect.of...|\n",
      "|2025-02-21 20:36:...|1019573692616403157|6082918464768998483|   append|s3://warehouse/rp...|{kafka.connect.of...|\n",
      "|2025-02-21 20:36:...|3221693967531930755|1019573692616403157|   append|s3://warehouse/rp...|{kafka.connect.of...|\n",
      "+--------------------+-------------------+-------------------+---------+--------------------+--------------------+\n",
      "\n"
     ]
    }
   ],
   "source": [
    " spark.sql(\"SELECT * FROM demo.rpc.pizzas.snapshots\").show()"
   ]
  },
  {
   "cell_type": "code",
   "execution_count": null,
   "id": "f2dd676c-e704-4219-b3d9-063c5d3e0ff7",
   "metadata": {},
   "outputs": [],
   "source": []
  }
 ],
 "metadata": {
  "kernelspec": {
   "display_name": "Python 3 (ipykernel)",
   "language": "python",
   "name": "python3"
  },
  "language_info": {
   "codemirror_mode": {
    "name": "ipython",
    "version": 3
   },
   "file_extension": ".py",
   "mimetype": "text/x-python",
   "name": "python",
   "nbconvert_exporter": "python",
   "pygments_lexer": "ipython3",
   "version": "3.9.18"
  }
 },
 "nbformat": 4,
 "nbformat_minor": 5
}
